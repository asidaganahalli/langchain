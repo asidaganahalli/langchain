{
 "cells": [
  {
   "cell_type": "markdown",
   "metadata": {},
   "source": [
    "# langchain-naver\n",
    "\n",
    "All functionality related to `Naver` including HyperCLOVA X models, especially via `Naver Cloud` [CLOVA Studio](https://clovastudio.ncloud.com/).\n",
    "\n",
    "> [Naver](https://navercorp.com/) is a global technology company based in South Korea with cutting-edge technologies and a diverse business portfolio including search, commerce, fintech, content, cloud, and AI.\n",
    "\n",
    "> [Naver Cloud](https://www.navercloudcorp.com/lang/en/) is the cloud computing arm of Naver, a leading cloud service provider offering a comprehensive suite of cloud services to businesses through its Naver Cloud Platform (NCP).\n",
    "\n",
    "Please refer to [NCP User Guide](https://guide.ncloud-docs.com/docs/clovastudio-overview) for more detailed instructions (also in Korean).\n",
    "\n",
    "## Installation and Setup\n",
    "\n",
    "Install the integration Python package with:"
   ]
  },
  {
   "metadata": {},
   "cell_type": "code",
   "outputs": [],
   "execution_count": null,
   "source": "pip install -U langchain-community"
  },
  {
   "metadata": {},
   "cell_type": "markdown",
   "source": [
    "Get both CLOVA Studio API Key and API Gateway Key by [creating your app](https://guide.ncloud-docs.com/docs/en/clovastudio-playground01#create-test-app) and set them as environment variables respectively (`NCP_CLOVASTUDIO_API_KEY`, `NCP_APIGW_API_KEY`).\n",
    "\n",
    "## Chat Models\n",
    "\n",
    "### ChatClovaX\n",
    "\n",
    "See a [usage example](/docs/integrations/chat/naver)."
   ]
  },
  {
   "metadata": {},
   "cell_type": "code",
   "outputs": [],
   "execution_count": null,
   "source": "from langchain_community.chat_models import ChatClovaX"
  },
  {
   "metadata": {},
   "cell_type": "markdown",
   "source": [
    "## Embedding Models\n",
    "\n",
    "### ClovaXEmbeddings\n",
    "\n",
    "See a [usage example](/docs/integrations/text_embedding/naver)."
   ]
  },
  {
   "cell_type": "code",
   "execution_count": 2,
   "metadata": {
    "id": "y8ku6X96sebl"
   },
   "outputs": [],
   "source": "from langchain_community.embeddings import ClovaXEmbeddings"
  }
 ],
 "metadata": {
  "colab": {
   "provenance": []
  },
  "kernelspec": {
   "display_name": "Python 3 (ipykernel)",
   "language": "python",
   "name": "python3"
  },
  "language_info": {
   "codemirror_mode": {
    "name": "ipython",
    "version": 3
   },
   "file_extension": ".py",
   "mimetype": "text/x-python",
   "name": "python",
   "nbconvert_exporter": "python",
   "pygments_lexer": "ipython3",
   "version": "3.10.11"
  }
 },
 "nbformat": 4,
 "nbformat_minor": 1
}
