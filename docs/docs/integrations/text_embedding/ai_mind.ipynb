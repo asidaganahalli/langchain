{
 "cells": [
  {
   "cell_type": "code",
   "execution_count": null,
   "id": "13d4f7f5-13fc-4de0-b5b6-91390f7e8325",
   "metadata": {},
   "outputs": [],
   "source": [
    "---\n",
    "keywords: [AIMindEmbeddings]\n",
    "---"
   ]
  },
  {
   "cell_type": "markdown",
   "id": "bbd85bd4-5dd2-4f2e-bf46-90a89e42873e",
   "metadata": {},
   "source": [
    "# AIMindEmbeddings\n",
    "\n",
    "This notebook provides a quick overview for getting started with AIMind (MindsDB) embedding models. \n",
    "\n",
    "The [Minds Endpoint](https://docs.mdb.ai/) is a unified, OpenAI-compatible API format to interact with various Minds and LLM providers. This standardization simplifies your access to a wide range of functions like completion, embedding, and image generation. It minimizes the learning curve and accelerates your development process.\n",
    "\n",
    "It provides a wide selection of [advanced large language models (LLMs)](https://docs.mdb.ai/docs/models), including embeddings models from industry-leading AI providers. "
   ]
  },
  {
   "cell_type": "markdown",
   "id": "50387634-1463-45d0-bd48-f0e8f0a92393",
   "metadata": {},
   "source": [
    "## Setup\n",
    "\n",
    "To access MindsDB Endpoint embedding models you'll need to create an MindsDB account, get an API key, and install the `openai` package.\n",
    "\n",
    "### Credentials\n",
    "\n",
    "Head to https://mdb.ai/ to sign up to MindsDB and generate an API key. Once you've done this set the `MINDSDB_API_KEY` environment variable:"
   ]
  },
  {
   "cell_type": "code",
   "execution_count": 1,
   "id": "6ddc1032-b49f-4d53-a0a8-c85a535ea9a7",
   "metadata": {},
   "outputs": [
    {
     "name": "stdin",
     "output_type": "stream",
     "text": [
      "Enter your MINDSDB API key:  ········\n"
     ]
    }
   ],
   "source": [
    "import getpass\n",
    "import os\n",
    "\n",
    "os.environ[\"MINDSDB_API_KEY\"] = getpass.getpass(\"Enter your MINDSDB API key: \")"
   ]
  },
  {
   "cell_type": "markdown",
   "id": "90c23d37-bab8-4fec-8c0c-45fdd5a75b01",
   "metadata": {},
   "source": [
    "### Installation\n",
    "\n",
    "The LangChain AIMind (MindsDB) integration lives in the `langchain-community` package:"
   ]
  },
  {
   "cell_type": "code",
   "execution_count": null,
   "id": "565f9e73-3a49-4f65-8ee6-1b66b311ef79",
   "metadata": {},
   "outputs": [],
   "source": [
    "%pip install langchain-community"
   ]
  },
  {
   "cell_type": "markdown",
   "id": "735f60ca-d70d-4a89-bfc8-fbd20a681a37",
   "metadata": {},
   "source": [
    "## Instantiation\n",
    "\n",
    "Now we can instantiate our model object and generate text embeddings:"
   ]
  },
  {
   "cell_type": "code",
   "execution_count": 2,
   "id": "f96e9e2e-da68-4e91-9ffb-54abea1243d3",
   "metadata": {},
   "outputs": [],
   "source": [
    "from langchain_community.embeddings import AIMindEmbeddings\n",
    "\n",
    "embeddings = AIMindEmbeddings(model='text-embedding-ada-002')"
   ]
  },
  {
   "cell_type": "markdown",
   "id": "25905055-56c1-47a7-9868-bf36ad98dcf5",
   "metadata": {},
   "source": [
    "## Invocation"
   ]
  },
  {
   "cell_type": "code",
   "execution_count": 5,
   "id": "bc8561f6-98ff-40ce-a4c1-1f1ae23e0600",
   "metadata": {},
   "outputs": [],
   "source": [
    "text = \"This is a test document.\""
   ]
  },
  {
   "cell_type": "markdown",
   "id": "c164a902-668a-4338-a6d5-ae2416f40274",
   "metadata": {},
   "source": [
    "### Embed query"
   ]
  },
  {
   "cell_type": "code",
   "execution_count": 6,
   "id": "be39aa34-413f-42dd-9a65-b3e3b0ddd5d9",
   "metadata": {},
   "outputs": [],
   "source": [
    "query_result = embeddings.embed_query(text)"
   ]
  },
  {
   "cell_type": "code",
   "execution_count": 7,
   "id": "6947a4e3-7584-41ff-b47f-301be535d3c6",
   "metadata": {},
   "outputs": [
    {
     "data": {
      "text/plain": [
       "[-0.0031632656221469053,\n",
       " 0.01101890238428412,\n",
       " -0.004172108723287186,\n",
       " -0.011725927113265736,\n",
       " -0.0010430271808217965]"
      ]
     },
     "execution_count": 7,
     "metadata": {},
     "output_type": "execute_result"
    }
   ],
   "source": [
    "query_result[:5]"
   ]
  },
  {
   "cell_type": "markdown",
   "id": "af9dc9c2-4d9d-4c7a-8e14-0ade04b948c9",
   "metadata": {},
   "source": [
    "### Embed documents"
   ]
  },
  {
   "cell_type": "code",
   "execution_count": 8,
   "id": "440b1e53-37b9-4b7b-961a-84be55cc28b4",
   "metadata": {},
   "outputs": [],
   "source": [
    "doc_result = embeddings.embed_documents([text])"
   ]
  },
  {
   "cell_type": "code",
   "execution_count": 9,
   "id": "860d51e6-a1a8-4dea-bf5d-cad9b04befd0",
   "metadata": {},
   "outputs": [
    {
     "data": {
      "text/plain": [
       "[-0.0031632656221469053,\n",
       " 0.01101890238428412,\n",
       " -0.004172108723287186,\n",
       " -0.011725927113265736,\n",
       " -0.0010430271808217965]"
      ]
     },
     "execution_count": 9,
     "metadata": {},
     "output_type": "execute_result"
    }
   ],
   "source": [
    "doc_result[0][:5]"
   ]
  }
 ],
 "metadata": {
  "kernelspec": {
   "display_name": "Python 3 (ipykernel)",
   "language": "python",
   "name": "python3"
  },
  "language_info": {
   "codemirror_mode": {
    "name": "ipython",
    "version": 3
   },
   "file_extension": ".py",
   "mimetype": "text/x-python",
   "name": "python",
   "nbconvert_exporter": "python",
   "pygments_lexer": "ipython3",
   "version": "3.8.19"
  }
 },
 "nbformat": 4,
 "nbformat_minor": 5
}
