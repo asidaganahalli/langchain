{
 "cells": [
  {
   "cell_type": "markdown",
   "id": "ce0f17b9",
   "metadata": {},
   "source": [
    "# Chroma Retriever\n",
    "\n",
    ">[Chroma](https://docs.trychroma.com/) is an open-source vector database.\n",
    "\n",
    "This notebook shows how to use the `ChromaRetriever` class as a LangChain retriever.\n",
    "\n",
    "It currently exposes the `add_texts` `add_documents` `update_documents` `update_document` methods from the `Chroma` vectorstore class alongside the retriever interface."
   ]
  },
  {
   "attachments": {},
   "cell_type": "markdown",
   "id": "c307b082",
   "metadata": {},
   "source": [
    "Set up the retriever:"
   ]
  },
  {
   "cell_type": "code",
   "execution_count": 8,
   "id": "bba863a2-977c-4add-b5f4-bfc33a80eae5",
   "metadata": {
    "tags": []
   },
   "outputs": [
    {
     "name": "stdout",
     "output_type": "stream",
     "text": [
      "Note: you may need to restart the kernel to use updated packages.\n"
     ]
    }
   ],
   "source": [
    "%pip install --upgrade --quiet  chromadb\n"
   ]
  },
  {
   "cell_type": "code",
   "execution_count": 9,
   "id": "f47a2bfe",
   "metadata": {},
   "outputs": [],
   "source": [
    "from langchain_community.retrievers import (\n",
    "    ChromaRetriever\n",
    ")\n",
    "from langchain_community.vectorstores.chroma import (\n",
    "    Chroma\n",
    ")\n",
    "from langchain_core.documents import Document"
   ]
  },
  {
   "cell_type": "code",
   "execution_count": 10,
   "id": "f2eff08e",
   "metadata": {},
   "outputs": [],
   "source": [
    "from langchain_community.embeddings.fake import FakeEmbeddings\n",
    "\n",
    "\n",
    "retriever = ChromaRetriever(\n",
    "    store=Chroma(\n",
    "        collection_name=\"test-collection\", \n",
    "        embedding_function=FakeEmbeddings(size=10)\n",
    "    ), \n",
    "    search_type=\"similarity\"\n",
    ")"
   ]
  },
  {
   "attachments": {},
   "cell_type": "markdown",
   "id": "b68debff",
   "metadata": {},
   "source": [
    "Add some data:"
   ]
  },
  {
   "cell_type": "code",
   "execution_count": 11,
   "id": "cd8a7b17",
   "metadata": {},
   "outputs": [],
   "source": [
    "docs = [\n",
    "    Document(\n",
    "        metadata={\n",
    "            \"title\": \"Finding meaning\",\n",
    "            \"author\": \"John Simmons\",\n",
    "        },\n",
    "        page_content=\"foo\",\n",
    "    ),\n",
    "    Document(\n",
    "        page_content=\"bar\",\n",
    "    ),\n",
    "    Document(\n",
    "        metadata={\"title\": \"yellow\"},\n",
    "        page_content=\"baz\",\n",
    "    ),\n",
    "    Document(\n",
    "        metadata={\n",
    "            \"title\": \"AI Sentience is a vector database\",\n",
    "        },\n",
    "        page_content=\"far\",\n",
    "    ),\n",
    "    Document(\n",
    "        metadata={\n",
    "            \"title\": \"Wow chroma is so cool I love chroma haha right guys? right?\",\n",
    "        },\n",
    "        page_content=\"The quick brown fox\",\n",
    "    ),\n",
    "]"
   ]
  },
  {
   "cell_type": "code",
   "execution_count": 12,
   "id": "3c5970db",
   "metadata": {},
   "outputs": [
    {
     "data": {
      "text/plain": [
       "['id1', 'id2', 'id3', 'id4', 'id5']"
      ]
     },
     "execution_count": 12,
     "metadata": {},
     "output_type": "execute_result"
    }
   ],
   "source": [
    "retriever.add_documents(docs, ids=[\"id1\",\"id2\", \"id3\", \"id4\", \"id5\"])"
   ]
  },
  {
   "attachments": {},
   "cell_type": "markdown",
   "id": "6e030694",
   "metadata": {},
   "source": [
    "Do a search:"
   ]
  },
  {
   "cell_type": "code",
   "execution_count": 13,
   "id": "bf7dbb98",
   "metadata": {},
   "outputs": [
    {
     "data": {
      "text/plain": [
       "[Document(page_content='foo', metadata={'author': 'John Simmons', 'title': 'Finding meaning'}),\n",
       " Document(page_content='far', metadata={'title': 'AI Sentience is a vector database'}),\n",
       " Document(page_content='The quick brown fox', metadata={'title': 'Wow chroma is so cool I love chroma haha right guys? right?'}),\n",
       " Document(page_content='baz', metadata={'title': 'yellow'})]"
      ]
     },
     "execution_count": 13,
     "metadata": {},
     "output_type": "execute_result"
    }
   ],
   "source": [
    "retriever.get_relevant_documents(\"the ethical implications of AI\")"
   ]
  },
  {
   "cell_type": "markdown",
   "id": "c831648e",
   "metadata": {},
   "source": [
    "Lets update a doc"
   ]
  },
  {
   "cell_type": "code",
   "execution_count": 14,
   "id": "ef8891f8",
   "metadata": {},
   "outputs": [],
   "source": [
    "new_doc = Document(\n",
    "    metadata={'title': 'AI Sentience is a vector database'},\n",
    "    page_content=\"bar\",\n",
    ")\n",
    "\n",
    "retriever.update_document(document=new_doc, document_id=\"id1\")"
   ]
  },
  {
   "cell_type": "code",
   "execution_count": 15,
   "id": "5fd25645",
   "metadata": {},
   "outputs": [
    {
     "data": {
      "text/plain": [
       "{'ids': ['id1'],\n",
       " 'embeddings': None,\n",
       " 'metadatas': [{'author': 'John Simmons',\n",
       "   'title': 'AI Sentience is a vector database'}],\n",
       " 'documents': ['bar'],\n",
       " 'uris': None,\n",
       " 'data': None}"
      ]
     },
     "execution_count": 15,
     "metadata": {},
     "output_type": "execute_result"
    }
   ],
   "source": [
    "retriever.store.get(ids=[\"id1\"])"
   ]
  }
 ],
 "metadata": {
  "kernelspec": {
   "display_name": "Python 3 (ipykernel)",
   "language": "python",
   "name": "python3"
  },
  "language_info": {
   "codemirror_mode": {
    "name": "ipython",
    "version": 3
   },
   "file_extension": ".py",
   "mimetype": "text/x-python",
   "name": "python",
   "nbconvert_exporter": "python",
   "pygments_lexer": "ipython3",
   "version": "3.10.13"
  }
 },
 "nbformat": 4,
 "nbformat_minor": 5
}
