{
 "cells": [
  {
   "cell_type": "markdown",
   "metadata": {
    "collapsed": false
   },
   "source": [
    "# Zep Cloud\n",
    "## Retriever Example for [Zep Cloud](https://docs.getzep.com/)\n",
    "\n",
    "> Recall, understand, and extract data from chat histories. Power personalized AI experiences.\n",
    "\n",
    "> [Zep](https://www.getzep.com) is a long-term memory service for AI Assistant apps.\n",
    "> With Zep, you can provide AI assistants with the ability to recall past conversations, no matter how distant,\n",
    "> while also reducing hallucinations, latency, and cost.\n",
    "\n",
    "> See [Zep Cloud Installation Guide](https://help.getzep.com/sdks) and more [Zep Cloud Langchain Examples](https://github.com/getzep/zep-python/tree/main/examples)"
   ]
  },
  {
   "attachments": {},
   "cell_type": "markdown",
   "metadata": {},
   "source": [
    "## Retriever Example\n",
    "\n",
    "This notebook demonstrates how to search historical chat message histories using the [Zep Long-term Memory Store](https://www.getzep.com/).\n",
    "\n",
    "We'll demonstrate:\n",
    "\n",
    "1. Adding conversation history to the Zep memory store.\n",
    "2. Vector search over the conversation history: \n",
    "    1. With a similarity search over chat messages\n",
    "    2. Using maximal marginal relevance re-ranking of a chat message search\n",
    "    3. Filtering a search using metadata filters\n",
    "    4. A similarity search over summaries of the chat messages\n",
    "    5. Using maximal marginal relevance re-ranking of a summary search\n",
    "\n"
   ]
  },
  {
   "cell_type": "code",
   "execution_count": 3,
   "metadata": {
    "ExecuteTime": {
     "end_time": "2024-06-27T23:17:13.077674Z",
     "start_time": "2024-06-27T23:17:00.492124Z"
    },
    "collapsed": false
   },
   "outputs": [],
   "source": [
    "import getpass\n",
    "import time\n",
    "from uuid import uuid4\n",
    "\n",
    "from langchain_community.memory.zep_cloud_memory import ZepCloudMemory\n",
    "from langchain_community.retrievers import ZepCloudRetriever\n",
    "from langchain_core.messages import AIMessage, HumanMessage\n",
    "\n",
    "# Provide your Zep API key.\n",
    "zep_api_key = getpass.getpass()"
   ]
  },
  {
   "attachments": {},
   "cell_type": "markdown",
   "metadata": {},
   "source": [
    "### Initialize the Zep Chat Message History Class and add a chat message history to the memory store\n",
    "\n",
    "**NOTE:** Unlike other Retrievers, the content returned by the Zep Retriever is session/user specific. A `session_id` is required when instantiating the Retriever."
   ]
  },
  {
   "cell_type": "code",
   "execution_count": 4,
   "metadata": {
    "ExecuteTime": {
     "end_time": "2024-06-27T23:17:17.543958Z",
     "start_time": "2024-06-27T23:17:17.482714Z"
    },
    "collapsed": false
   },
   "outputs": [],
   "source": [
    "session_id = str(uuid4())  # This is a unique identifier for the user/session\n",
    "\n",
    "# Initialize the Zep Memory Class\n",
    "zep_memory = ZepCloudMemory(session_id=session_id, api_key=zep_api_key)"
   ]
  },
  {
   "cell_type": "code",
   "execution_count": 5,
   "metadata": {
    "ExecuteTime": {
     "end_time": "2024-06-27T23:17:35.457892Z",
     "start_time": "2024-06-27T23:17:21.070694Z"
    },
    "collapsed": false
   },
   "outputs": [],
   "source": [
    "# Preload some messages into the memory. The default message window is 4 messages. We want to push beyond this to demonstrate auto-summarization.\n",
    "test_history = [\n",
    "    {\"role\": \"human\", \"role_type\": \"user\", \"content\": \"Who was Octavia Butler?\"},\n",
    "    {\n",
    "        \"role\": \"ai\",\n",
    "        \"role_type\": \"assistant\",\n",
    "        \"content\": (\n",
    "            \"Octavia Estelle Butler (June 22, 1947 – February 24, 2006) was an American\"\n",
    "            \" science fiction author.\"\n",
    "        ),\n",
    "    },\n",
    "    {\n",
    "        \"role\": \"human\",\n",
    "        \"role_type\": \"user\",\n",
    "        \"content\": \"Which books of hers were made into movies?\",\n",
    "    },\n",
    "    {\n",
    "        \"role\": \"ai\",\n",
    "        \"role_type\": \"assistant\",\n",
    "        \"content\": (\n",
    "            \"The most well-known adaptation of Octavia Butler's work is the FX series\"\n",
    "            \" Kindred, based on her novel of the same name.\"\n",
    "        ),\n",
    "    },\n",
    "    {\"role\": \"human\", \"role_type\": \"user\", \"content\": \"Who were her contemporaries?\"},\n",
    "    {\n",
    "        \"role\": \"ai\",\n",
    "        \"role_type\": \"assistant\",\n",
    "        \"content\": (\n",
    "            \"Octavia Butler's contemporaries included Ursula K. Le Guin, Samuel R.\"\n",
    "            \" Delany, and Joanna Russ.\"\n",
    "        ),\n",
    "    },\n",
    "    {\"role\": \"human\", \"role_type\": \"user\", \"content\": \"What awards did she win?\"},\n",
    "    {\n",
    "        \"role\": \"ai\",\n",
    "        \"role_type\": \"assistant\",\n",
    "        \"content\": (\n",
    "            \"Octavia Butler won the Hugo Award, the Nebula Award, and the MacArthur\"\n",
    "            \" Fellowship.\"\n",
    "        ),\n",
    "    },\n",
    "    {\n",
    "        \"role\": \"human\",\n",
    "        \"role_type\": \"user\",\n",
    "        \"content\": \"Which other women sci-fi writers might I want to read?\",\n",
    "    },\n",
    "    {\n",
    "        \"role\": \"ai\",\n",
    "        \"role_type\": \"assistant\",\n",
    "        \"content\": \"You might want to read Ursula K. Le Guin or Joanna Russ.\",\n",
    "    },\n",
    "    {\n",
    "        \"role\": \"human\",\n",
    "        \"role_type\": \"user\",\n",
    "        \"content\": (\n",
    "            \"Write a short synopsis of Butler's book, Parable of the Sower. What is it\"\n",
    "            \" about?\"\n",
    "        ),\n",
    "    },\n",
    "    {\n",
    "        \"role\": \"ai\",\n",
    "        \"role_type\": \"assistant\",\n",
    "        \"content\": (\n",
    "            \"Parable of the Sower is a science fiction novel by Octavia Butler,\"\n",
    "            \" published in 1993. It follows the story of Lauren Olamina, a young woman\"\n",
    "            \" living in a dystopian future where society has collapsed due to\"\n",
    "            \" environmental disasters, poverty, and violence.\"\n",
    "        ),\n",
    "    },\n",
    "    {\n",
    "        \"role\": \"human\",\n",
    "        \"role_type\": \"user\",\n",
    "        \"content\": \"What is the setting of the book?\",\n",
    "    },\n",
    "    {\n",
    "        \"role\": \"ai\",\n",
    "        \"role_type\": \"assistant\",\n",
    "        \"content\": (\n",
    "            \"The book is set in a dystopian future in the 2020s, where society has\"\n",
    "            \" collapsed due to climate change and economic crises.\"\n",
    "        ),\n",
    "    },\n",
    "    {\"role\": \"human\", \"role_type\": \"user\", \"content\": \"Who is the protagonist?\"},\n",
    "    {\n",
    "        \"role\": \"ai\",\n",
    "        \"role_type\": \"assistant\",\n",
    "        \"content\": (\n",
    "            \"The protagonist of the book is Lauren Olamina, a young woman who possesses\"\n",
    "            \" 'hyperempathy', the ability to feel pain and other sensations she\"\n",
    "            \" witnesses.\"\n",
    "        ),\n",
    "    },\n",
    "    {\n",
    "        \"role\": \"human\",\n",
    "        \"role_type\": \"user\",\n",
    "        \"content\": \"What is the main theme of the book?\",\n",
    "    },\n",
    "    {\n",
    "        \"role\": \"ai\",\n",
    "        \"role_type\": \"assistant\",\n",
    "        \"content\": (\n",
    "            \"The main theme of the book is survival in the face of drastic societal\"\n",
    "            \" change and collapse. It also explores themes of adaptability, community,\"\n",
    "            \" and the human capacity for change.\"\n",
    "        ),\n",
    "    },\n",
    "    {\n",
    "        \"role\": \"human\",\n",
    "        \"role_type\": \"user\",\n",
    "        \"content\": \"What is the 'Parable of the Sower'?\",\n",
    "    },\n",
    "    {\n",
    "        \"role\": \"ai\",\n",
    "        \"role_type\": \"assistant\",\n",
    "        \"content\": (\n",
    "            \"The 'Parable of the Sower' is a biblical parable that Butler uses as a\"\n",
    "            \" metaphor in the book. In the parable, a sower scatters seeds, some of\"\n",
    "            \" which fall on fertile ground and grow, while others fall on rocky ground\"\n",
    "            \" or among thorns and fail to grow. The parable is used to illustrate the\"\n",
    "            \" importance of receptivity and preparedness in the face of change.\"\n",
    "        ),\n",
    "    },\n",
    "    {\n",
    "        \"role\": \"human\",\n",
    "        \"role_type\": \"user\",\n",
    "        \"content\": \"What is Butler's writing style like?\",\n",
    "    },\n",
    "    {\n",
    "        \"role\": \"ai\",\n",
    "        \"role_type\": \"assistant\",\n",
    "        \"content\": (\n",
    "            \"Butler's writing style is known for its clarity, directness, and\"\n",
    "            \" psychological insight. Her narratives often involve complex, diverse\"\n",
    "            \" characters and explore themes of race, gender, and power.\"\n",
    "        ),\n",
    "    },\n",
    "    {\n",
    "        \"role\": \"human\",\n",
    "        \"role_type\": \"user\",\n",
    "        \"content\": \"What other books has she written?\",\n",
    "    },\n",
    "    {\n",
    "        \"role\": \"ai\",\n",
    "        \"content\": (\n",
    "            \"In addition to 'Parable of the Sower', Butler has written several other\"\n",
    "            \" notable works, including 'Kindred', 'Dawn', and 'Parable of the Talents'.\"\n",
    "        ),\n",
    "    },\n",
    "]\n",
    "\n",
    "for msg in test_history:\n",
    "    zep_memory.chat_memory.add_message(\n",
    "        HumanMessage(content=msg[\"content\"])\n",
    "        if msg[\"role\"] == \"human\"\n",
    "        else AIMessage(content=msg[\"content\"])\n",
    "    )\n",
    "\n",
    "time.sleep(\n",
    "    10\n",
    ")  # Wait for the messages to be embedded and summarized, this happens asynchronously."
   ]
  },
  {
   "attachments": {},
   "cell_type": "markdown",
   "metadata": {},
   "source": [
    "### Use the Zep Retriever to vector search over the Zep memory\n",
    "\n",
    "Zep provides native vector search over historical conversation memory. Embedding happens automatically.\n",
    "\n",
    "NOTE: Embedding of messages occurs asynchronously, so the first query may not return results. Subsequent queries will return results as the embeddings are generated."
   ]
  },
  {
   "cell_type": "code",
   "execution_count": 6,
   "metadata": {
    "ExecuteTime": {
     "end_time": "2024-06-27T23:17:46.645848Z",
     "start_time": "2024-06-27T23:17:46.468791Z"
    },
    "collapsed": false
   },
   "outputs": [
    {
     "data": {
      "text/plain": [
       "[Document(page_content='Octavia Estelle Butler was an American science fiction author.', metadata={'score': 0.6598745286464691, 'uuid': '14cc7649-5610-426d-a3a0-2453801b2749'}),\n",
       " Document(page_content='Octavia Estelle Butler was an American science fiction author.', metadata={'score': 0.6598282754421234, 'uuid': '1e66641b-51cc-4f18-a84e-4e95cc787401'}),\n",
       " Document(page_content='Octavia Estelle Butler was an American science fiction author.', metadata={'score': 0.6598282754421234, 'uuid': '2e579f1b-6887-4e91-b264-88debde6ae43'}),\n",
       " Document(page_content='Octavia Estelle Butler was an American science fiction author.', metadata={'score': 0.6598282754421234, 'uuid': '6c9fadec-1630-44f9-8339-9a731cc0521c'}),\n",
       " Document(page_content=\"Octavia Butler's contemporaries included Ursula K. Le Guin, Samuel R. Delany, and Joanna Russ.\", metadata={'score': 0.628315731883049, 'uuid': 'c2c3562a-7e14-4fe4-bc21-3a1a74803a18'})]"
      ]
     },
     "execution_count": 6,
     "metadata": {},
     "output_type": "execute_result"
    }
   ],
   "source": [
    "zep_retriever = ZepCloudRetriever(\n",
    "    api_key=zep_api_key,\n",
    "    session_ids=[\n",
    "        session_id\n",
    "    ],  # Ensure that you provide the session_id when instantiating the Retriever\n",
    "    top_k=5,\n",
    ")\n",
    "\n",
    "await zep_retriever.ainvoke(\"Who wrote Parable of the Sower?\")"
   ]
  },
  {
   "attachments": {},
   "cell_type": "markdown",
   "metadata": {},
   "source": [
    "We can also use the Zep sync API to retrieve results:"
   ]
  },
  {
   "cell_type": "code",
   "execution_count": 7,
   "metadata": {
    "ExecuteTime": {
     "end_time": "2024-05-10T14:31:37.611570Z",
     "start_time": "2024-05-10T14:31:37.298903Z"
    },
    "collapsed": false
   },
   "outputs": [
    {
     "data": {
      "text/plain": [
       "[Document(page_content='Parable of the Sower is a science fiction novel by Octavia Butler set in a dystopian future in the 2020s. The story follows Lauren Olamina, a young woman living in a society that has collapsed due to environmental disasters, poverty, and violence. The novel explores themes of societal breakdown, the struggle for survival, and the search for a better future.', metadata={'score': 0.8473024368286133, 'uuid': 'e4689f8e-33be-4a59-a9c2-e5ef5dd70f74', 'created_at': '2024-05-10T05:02:02.713123Z', 'token_count': 76})]"
      ]
     },
     "execution_count": 7,
     "metadata": {},
     "output_type": "execute_result"
    }
   ],
   "source": [
    "zep_retriever.invoke(\"Who wrote Parable of the Sower?\")"
   ]
  },
  {
   "attachments": {},
   "cell_type": "markdown",
   "metadata": {},
   "source": [
    "### Reranking using MMR (Maximal Marginal Relevance)\n",
    "\n",
    "Zep has native, SIMD-accelerated support for reranking results using MMR. This is useful for removing redundancy in results."
   ]
  },
  {
   "cell_type": "code",
   "execution_count": 7,
   "metadata": {
    "ExecuteTime": {
     "end_time": "2024-06-27T23:18:23.078198Z",
     "start_time": "2024-06-27T23:18:22.887438Z"
    },
    "collapsed": false
   },
   "outputs": [
    {
     "data": {
      "text/plain": [
       "[Document(page_content='\"Parable of the Sower\" was published in 1993.', metadata={'score': 0.801195353269577, 'uuid': '6eec3c01-7760-49b4-a645-d183c9892be6'}),\n",
       " Document(page_content='Octavia Estelle Butler was an American science fiction author.', metadata={'score': 0.6598282754421234, 'uuid': '0a104df9-4dfc-4fed-ab92-d89053ed198d'}),\n",
       " Document(page_content='The protagonist of \"Parable of the Sower\" is Lauren Olamina.', metadata={'score': 0.7712874114513397, 'uuid': '41e42b3f-a67e-4cbe-b238-cc54a8495b27'}),\n",
       " Document(page_content='The setting of Octavia Butler\\'s book \"Parable of the Sower\" is a dystopian future.', metadata={'score': 0.7377741038799286, 'uuid': 'e43d173b-295b-483e-8044-6c76a4a8f5ad'}),\n",
       " Document(page_content='Octavia Butler wrote the science fiction novel \"Parable of the Sower.\"', metadata={'score': 0.7921523451805115, 'uuid': 'd405c62c-2709-46fa-86a2-c7bcd9f15585'})]"
      ]
     },
     "execution_count": 7,
     "metadata": {},
     "output_type": "execute_result"
    }
   ],
   "source": [
    "zep_retriever = ZepCloudRetriever(\n",
    "    api_key=zep_api_key,\n",
    "    session_ids=[session_id],  # Optional, will search across all sessions by default\n",
    "    top_k=5,\n",
    "    search_type=\"mmr\",\n",
    "    mmr_lambda=0.5,\n",
    ")\n",
    "\n",
    "await zep_retriever.ainvoke(\"Who wrote Parable of the Sower?\")"
   ]
  },
  {
   "attachments": {},
   "cell_type": "markdown",
   "metadata": {},
   "source": [
    "### Using metadata filters to refine search results\n",
    "\n",
    "Zep supports filtering results by metadata. This is useful for filtering results by entity type, or other metadata.\n",
    "\n",
    "More information here: https://help.getzep.com/document-collections#searching-a-collection-with-hybrid-vector-search"
   ]
  },
  {
   "cell_type": "code",
   "execution_count": 10,
   "metadata": {
    "ExecuteTime": {
     "end_time": "2024-06-27T23:19:10.872763Z",
     "start_time": "2024-06-27T23:19:10.716197Z"
    }
   },
   "outputs": [
    {
     "data": {
      "text/plain": [
       "[Document(page_content='Octavia Estelle Butler, an American science fiction author, had her work adapted into the FX series Kindred, based on her novel of the same name. Born on June 22, 1947, and deceased on February 24, 2006, Butler\\'s contemporaries in the science fiction genre included Ursula K. Le Guin, Samuel R. Delany, and Joanna Russ. She won the Hugo Award, the Nebula Award, and the MacArthur Fellowship. \"Parable of the Sower\" is a science fiction novel by Octavia Butler, published in 1993. It follows the story of Lauren Olamina, a young woman living in a dystopian future where society has collapsed due to environmental disasters, poverty, and violence. The book is set in a dystopian future in the 2020s, where society has crumbled due to climate change and economic crises. The protagonist of the book is Lauren Olamina, a young woman who possesses \\'hyperempathy\\', the ability to feel pain and other sensations she witnesses. The main theme of the book is survival in the face of drastic societal change and collapse. It also explores themes of adaptability, community, and the human capacity for change. The \\'Parable of the Sower\\' is a biblical parable that Butler uses as a metaphor in the book. In the parable, a sower scatters seeds, some of which fall on fertile ground and grow, while others fall on rocky ground or among thorns and fail to grow. The parable is used to illustrate the importance of receptivity and preparedness in the face of change. Butler\\'s writing style is known for its clarity, directness, and psychological insight. Her narratives often involve complex, diverse characters and explore themes of race, gender, and power. In addition to \\'Parable of the Sower\\', Butler has written several other notable works, including \\'Kindred\\', \\'Dawn\\', and \\'Parable of the Talents\\'.', metadata={'score': 0.7991728186607361, 'uuid': '32559fa2-2bd7-4c4a-bb39-96cefddf1c1f', 'created_at': '2024-06-27T23:18:38.872624Z', 'token_count': 405}),\n",
       " Document(page_content=\"Octavia Estelle Butler, an American science fiction author, had her work adapted into the FX series Kindred, based on her novel of the same name. Born on June 22, 1947, and deceased on February 24, 2006, Butler's contemporaries in the science fiction genre included Ursula K. Le Guin, Samuel R. Delany, and Joanna Russ. She won the Hugo Award, the Nebula Award, and the MacArthur Fellowship. If you enjoy Octavia Butler's work, you might also want to explore the writings of Ursula K. Le Guin and Joanna Russ, who are notable women science fiction writers. Parable of the Sower is a science fiction novel by Octavia Butler, published in 1993. It follows the story of Lauren Olamina, a young woman living in a dystopian future where society has collapsed due to environmental disasters, poverty, and violence. The book's setting is a dystopian future where society has crumbled due to environmental disasters, poverty, and violence.\", metadata={'score': 0.7917186617851257, 'uuid': '81628227-dd61-48c2-9ee8-7eb24f60e713', 'created_at': '2024-06-27T23:17:56.335217Z', 'token_count': 213}),\n",
       " Document(page_content=\"Octavia Estelle Butler, an American science fiction author, had her work adapted into the FX series Kindred, based on her novel of the same name. Born on June 22, 1947, and deceased on February 24, 2006, Butler's contemporaries in the science fiction genre included Ursula K. Le Guin, Samuel R. Delany, and Joanna Russ. She won the Hugo Award, the Nebula Award, and the MacArthur Fellowship. Parable of the Sower is a science fiction novel by Octavia Butler, published in 1993. It follows the story of Lauren Olamina, a young woman living in a dystopian future where society has collapsed due to environmental disasters, poverty, and violence. The book's setting is a dystopian future in the 2020s, where society has crumbled due to climate change and economic crises.\", metadata={'score': 0.7935236096382141, 'uuid': '0ff0647c-d1d4-4f59-8833-e1827d1b6e24', 'created_at': '2024-06-27T23:17:59.383128Z', 'token_count': 181})]"
      ]
     },
     "execution_count": 10,
     "metadata": {},
     "output_type": "execute_result"
    }
   ],
   "source": [
    "filter = {\"where\": {\"jsonpath\": '$[*] ? (@.baz == \"qux\")'}}\n",
    "\n",
    "await zep_retriever.ainvoke(\n",
    "    \"Who wrote Parable of the Sower?\", config={\"metadata\": filter}\n",
    ")"
   ]
  },
  {
   "cell_type": "markdown",
   "metadata": {},
   "source": [
    "### Searching over Summaries with MMR Reranking\n",
    "\n",
    "Zep automatically generates summaries of chat messages. These summaries can be searched over using the Zep Retriever. Since a summary is a distillation of a conversation, they're more likely to match your search query and offer rich, succinct context to the LLM.\n",
    "\n",
    "Successive summaries may include similar content, with Zep's similarity search returning the highest matching results but with little diversity.\n",
    "MMR re-ranks the results to ensure that the summaries you populate into your prompt are both relevant and each offers additional information to the LLM."
   ]
  },
  {
   "cell_type": "code",
   "execution_count": 9,
   "metadata": {
    "ExecuteTime": {
     "end_time": "2024-06-27T23:18:52.940373Z",
     "start_time": "2024-06-27T23:18:52.784072Z"
    }
   },
   "outputs": [
    {
     "data": {
      "text/plain": [
       "[Document(page_content='Octavia Estelle Butler, an American science fiction author, had her work adapted into the FX series Kindred, based on her novel of the same name. Born on June 22, 1947, and deceased on February 24, 2006, Butler\\'s contemporaries in the science fiction genre included Ursula K. Le Guin, Samuel R. Delany, and Joanna Russ. She won the Hugo Award, the Nebula Award, and the MacArthur Fellowship. \"Parable of the Sower\" is a science fiction novel by Octavia Butler, published in 1993. It follows the story of Lauren Olamina, a young woman living in a dystopian future where society has collapsed due to environmental disasters, poverty, and violence. The book is set in a dystopian future in the 2020s, where society has crumbled due to climate change and economic crises. The protagonist of the book is Lauren Olamina, a young woman who possesses \\'hyperempathy\\', the ability to feel pain and other sensations she witnesses. The main theme of the book is survival in the face of drastic societal change and collapse. It also explores themes of adaptability, community, and the human capacity for change. The \\'Parable of the Sower\\' is a biblical parable that Butler uses as a metaphor in the book. In the parable, a sower scatters seeds, some of which fall on fertile ground and grow, while others fall on rocky ground or among thorns and fail to grow. The parable is used to illustrate the importance of receptivity and preparedness in the face of change. Butler\\'s writing style is known for its clarity, directness, and psychological insight. Her narratives often involve complex, diverse characters and explore themes of race, gender, and power. In addition to \\'Parable of the Sower\\', Butler has written several other notable works, including \\'Kindred\\', \\'Dawn\\', and \\'Parable of the Talents\\'.', metadata={'score': 0.7991728186607361, 'uuid': '32559fa2-2bd7-4c4a-bb39-96cefddf1c1f', 'created_at': '2024-06-27T23:18:38.872624Z', 'token_count': 405}),\n",
       " Document(page_content=\"Octavia Estelle Butler, an American science fiction author, had her work adapted into the FX series Kindred, based on her novel of the same name. Born on June 22, 1947, and deceased on February 24, 2006, Butler's contemporaries in the science fiction genre included Ursula K. Le Guin, Samuel R. Delany, and Joanna Russ. She won the Hugo Award, the Nebula Award, and the MacArthur Fellowship. If you enjoy Octavia Butler's work, you might also want to explore the writings of Ursula K. Le Guin and Joanna Russ, who are notable women science fiction writers. Parable of the Sower is a science fiction novel by Octavia Butler, published in 1993. It follows the story of Lauren Olamina, a young woman living in a dystopian future where society has collapsed due to environmental disasters, poverty, and violence. The book's setting is a dystopian future where society has crumbled due to environmental disasters, poverty, and violence.\", metadata={'score': 0.7917186617851257, 'uuid': '81628227-dd61-48c2-9ee8-7eb24f60e713', 'created_at': '2024-06-27T23:17:56.335217Z', 'token_count': 213}),\n",
       " Document(page_content=\"Octavia Estelle Butler, an American science fiction author, had her work adapted into the FX series Kindred, based on her novel of the same name. Born on June 22, 1947, and deceased on February 24, 2006, Butler's contemporaries in the science fiction genre included Ursula K. Le Guin, Samuel R. Delany, and Joanna Russ. She won the Hugo Award, the Nebula Award, and the MacArthur Fellowship. Parable of the Sower is a science fiction novel by Octavia Butler, published in 1993. It follows the story of Lauren Olamina, a young woman living in a dystopian future where society has collapsed due to environmental disasters, poverty, and violence. The book's setting is a dystopian future in the 2020s, where society has crumbled due to climate change and economic crises.\", metadata={'score': 0.7935236096382141, 'uuid': '0ff0647c-d1d4-4f59-8833-e1827d1b6e24', 'created_at': '2024-06-27T23:17:59.383128Z', 'token_count': 181})]"
      ]
     },
     "execution_count": 9,
     "metadata": {},
     "output_type": "execute_result"
    }
   ],
   "source": [
    "zep_retriever = ZepCloudRetriever(\n",
    "    api_key=zep_api_key,\n",
    "    session_id=session_id,  # Ensure that you provide the session_id when instantiating the Retriever\n",
    "    top_k=3,\n",
    "    search_scope=\"summary\",\n",
    "    search_type=\"mmr\",\n",
    "    mmr_lambda=0.5,\n",
    ")\n",
    "\n",
    "await zep_retriever.ainvoke(\"Who wrote Parable of the Sower?\")"
   ]
  },
  {
   "cell_type": "markdown",
   "metadata": {},
   "source": "### Searching over Facts with MMR Reranking"
  },
  {
   "cell_type": "code",
   "execution_count": 11,
   "metadata": {
    "ExecuteTime": {
     "end_time": "2024-06-27T23:20:04.147711Z",
     "start_time": "2024-06-27T23:20:03.952704Z"
    }
   },
   "outputs": [
    {
     "data": {
      "text/plain": [
       "[Document(page_content=\"The 'Parable of the Sower' is a biblical parable used as a metaphor in the book.\", metadata={'score': 0.8143136501312256, 'uuid': '1459400c-ab5c-42b5-8140-14ef3f636756'}),\n",
       " Document(page_content='Octavia Butler wrote the science fiction novel \"Parable of the Sower.\"', metadata={'score': 0.7921523451805115, 'uuid': '450d0ceb-cf36-4f03-bfb0-2a14a240c185'}),\n",
       " Document(page_content='\"Parable of the Sower\" was published in 1993.', metadata={'score': 0.8011863827705383, 'uuid': 'b0cf1f8b-c2d1-44f5-a069-5a282ebd8fae'})]"
      ]
     },
     "execution_count": 11,
     "metadata": {},
     "output_type": "execute_result"
    }
   ],
   "source": [
    "zep_retriever = ZepCloudRetriever(\n",
    "    api_key=zep_api_key,\n",
    "    session_id=session_id,  # Ensure that you provide the session_id when instantiating the Retriever\n",
    "    top_k=3,\n",
    "    search_scope=\"facts\",\n",
    "    search_type=\"mmr\",\n",
    "    mmr_lambda=0.5,\n",
    ")\n",
    "\n",
    "await zep_retriever.ainvoke(\"Who wrote Parable of the Sower?\")"
   ]
  },
  {
   "cell_type": "code",
   "execution_count": null,
   "metadata": {},
   "outputs": [],
   "source": []
  }
 ],
 "metadata": {
  "kernelspec": {
   "display_name": "Python 3 (ipykernel)",
   "language": "python",
   "name": "python3"
  },
  "language_info": {
   "codemirror_mode": {
    "name": "ipython",
    "version": 3
   },
   "file_extension": ".py",
   "mimetype": "text/x-python",
   "name": "python",
   "nbconvert_exporter": "python",
   "pygments_lexer": "ipython3",
   "version": "3.10.12"
  }
 },
 "nbformat": 4,
 "nbformat_minor": 4
}
