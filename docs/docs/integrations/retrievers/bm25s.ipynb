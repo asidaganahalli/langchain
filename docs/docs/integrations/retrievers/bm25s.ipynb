{
 "cells": [
  {
   "cell_type": "markdown",
   "id": "ab66dd43",
   "metadata": {},
   "source": [
    "# BM25S\n",
    "\n",
    ">[BM25S (blogpost)](https://huggingface.co/blog/xhluca/bm25s) is a faster variant of the classic BM25 algorithm since it relies on sparse algorithms instead of dense computations.\n",
    ">\n",
    ">`BM25SRetriever` retriever uses the [`bm25s`](https://github.com/xhluca/bm25s) package.\n"
   ]
  },
  {
   "cell_type": "code",
   "execution_count": null,
   "id": "a801b57c",
   "metadata": {},
   "outputs": [],
   "source": [
    "%pip install --upgrade --quiet  bm25s\n",
    "\n",
    "# If you want to use stemming for better results, you can install a stemmer\n",
    "%pip install --upgrade --quiet PyStemmer\n",
    "\n",
    "# To speed up the top-k selection process, you can install `jax`\n",
    "%pip install --upgrade --quiet \"jax[cpu]\""
   ]
  },
  {
   "cell_type": "code",
   "execution_count": null,
   "id": "393ac030",
   "metadata": {
    "tags": []
   },
   "outputs": [],
   "source": [
    "from langchain_community.retrievers import BM25SRetriever"
   ]
  },
  {
   "cell_type": "markdown",
   "id": "aaf80e7f",
   "metadata": {},
   "source": [
    "## Create New Retriever with Texts"
   ]
  },
  {
   "cell_type": "code",
   "execution_count": null,
   "id": "98b1c017",
   "metadata": {
    "tags": []
   },
   "outputs": [],
   "source": [
    "retriever = BM25SRetriever.from_texts(\n",
    "    texts=[\"I have a pen.\", \"Do you have a pen?\", \"I have a bag.\"]\n",
    ")"
   ]
  },
  {
   "cell_type": "markdown",
   "id": "c016b266",
   "metadata": {},
   "source": [
    "## Create a New Retriever with Documents\n",
    "\n",
    "You can now create a new retriever with the documents you created."
   ]
  },
  {
   "cell_type": "code",
   "execution_count": null,
   "id": "53af4f00",
   "metadata": {},
   "outputs": [],
   "source": [
    "from langchain_core.documents import Document\n",
    "\n",
    "retriever = BM25SRetriever.from_documents(\n",
    "    [\n",
    "        Document(page_content=\"foo\", metadata={\"id\": 1}),\n",
    "        Document(page_content=\"bar\", metadata={\"id\": 2}),\n",
    "        Document(page_content=\"world\", metadata={\"id\": 3}),\n",
    "        Document(page_content=\"hello\", metadata={\"id\": 4}),\n",
    "        Document(page_content=\"foo bar\", metadata={\"id\": 5}),\n",
    "    ]\n",
    ")"
   ]
  },
  {
   "cell_type": "markdown",
   "id": "1e0c6e07",
   "metadata": {},
   "source": [
    "## Create a New Retriever that is persisted\n",
    "\n",
    "You can now create a new retriever that is persisted on disk and can be reloaded."
   ]
  },
  {
   "cell_type": "code",
   "execution_count": null,
   "id": "7ed08bd9",
   "metadata": {},
   "outputs": [],
   "source": [
    "retriever = BM25SRetriever.from_documents(\n",
    "    [\n",
    "        Document(page_content=\"foo\", metadata={\"id\": 1}),\n",
    "        Document(page_content=\"bar\", metadata={\"id\": 2}),\n",
    "        Document(page_content=\"world\", metadata={\"id\": 3}),\n",
    "        Document(page_content=\"hello\", metadata={\"id\": 4}),\n",
    "        Document(page_content=\"foo bar\"),\n",
    "    ],\n",
    "    persist_directory=\"bm25s_retriever\",\n",
    ")\n",
    "\n",
    "retriever = BM25SRetriever.load(\"bm25s_retriever\", mmap=True)"
   ]
  },
  {
   "cell_type": "markdown",
   "id": "08437fa2",
   "metadata": {},
   "source": [
    "## Use Retriever\n",
    "\n",
    "We can now use the retriever!"
   ]
  },
  {
   "cell_type": "code",
   "execution_count": null,
   "id": "c0455218",
   "metadata": {
    "tags": []
   },
   "outputs": [],
   "source": [
    "result = retriever.invoke(\"foo bar\")"
   ]
  },
  {
   "cell_type": "code",
   "execution_count": null,
   "id": "7dfa5c29",
   "metadata": {
    "tags": []
   },
   "outputs": [],
   "source": [
    "result"
   ]
  }
 ],
 "metadata": {
  "kernelspec": {
   "display_name": "Python 3 (ipykernel)",
   "language": "python",
   "name": "python3"
  },
  "language_info": {
   "codemirror_mode": {
    "name": "ipython",
    "version": 3
   },
   "file_extension": ".py",
   "mimetype": "text/x-python",
   "name": "python",
   "nbconvert_exporter": "python",
   "pygments_lexer": "ipython3",
   "version": "3.12.3"
  }
 },
 "nbformat": 4,
 "nbformat_minor": 5
}
