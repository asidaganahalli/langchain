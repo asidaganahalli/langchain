{
 "cells": [
  {
   "metadata": {},
   "cell_type": "raw",
   "source": [
    "---\n",
    "sidebar_label: Naver\n",
    "---"
   ],
   "id": "f0e6bc10e127ff6c"
  },
  {
   "cell_type": "markdown",
   "id": "e49f1e0d",
   "metadata": {},
   "source": [
    "# ChatClovaX\n",
    "\n",
    "This notebook provides a quick overview for getting started with Naver's HyperCLOVA X [chat models](https://python.langchain.com/v0.2/docs/concepts/#chat-models) via CLOVA Studio. For detailed documentation of all ChatClovaX features and configurations head to the [API reference](https://api.python.langchain.com/en/latest/chat_models/langchain_anthropic.chat_models.ChatAnthropic.html).\n",
    "\n",
    "CLOVA Studio has several chat models. You can find information about latest models and their costs, context windows, and supported input types in the CLOVA Studio API Guide [documentation](https://api.ncloud-docs.com/docs/clovastudio-chatcompletions).\n",
    "\n",
    "## Overview\n",
    "### Integration details\n",
    "\n",
    "| Class                                                                                                                      | Package | Local | Serializable | [JS support](https://js.langchain.com/v0.2/docs/integrations/chat/naver) | Package downloads | Package latest |\n",
    "|:---------------------------------------------------------------------------------------------------------------------------| :--- |:-----:| :---: |:------------------------------------------------------------------------:| :---: | :---: |\n",
    "| [ChatClovaX](https://api.python.langchain.com/en/latest/chat_models/langchain_community.chat_models.naver.ChatClovaX.html) | [langchain-community](https://api.python.langchain.com/en/latest/community_api_reference.html) |   ❌   | beta/❌ |                                    ❌                                     | ![PyPI - Downloads](https://img.shields.io/pypi/dm/langchain-naver?style=flat-square&label=%20) | ![PyPI - Version](https://img.shields.io/pypi/v/langchain-naver?style=flat-square&label=%20) |\n",
    "\n",
    "### Model features\n",
    "| [Tool calling](/docs/how_to/tool_calling/) | [Structured output](/docs/how_to/structured_output/) | JSON mode | [Image input](/docs/how_to/multimodal_inputs/) | Audio input | Video input | [Token-level streaming](/docs/how_to/chat_streaming/) | Native async | [Token usage](/docs/how_to/chat_token_usage_tracking/) | [Logprobs](/docs/how_to/logprobs/) |\n",
    "|:------------------------------------------:| :---: | :---: | :---: |  :---: | :---: |:-----------------------------------------------------:| :---: |:------------------------------------------------------:|:----------------------------------:|\n",
    "|❌| ❌ | ❌ | ❌ | ❌ | ❌ |                          ✅                            | ✅ |                           ✅                            |                 ❌                  | \n",
    "\n",
    "## Setup\n",
    "\n",
    "Before using the chat model, you must go through the three steps below.\n",
    "\n",
    "1. Creating [NAVER Cloud Platform](https://www.ncloud.com/) account \n",
    "2. Apply to use [CLOVA Studio](https://www.ncloud.com/product/aiService/clovaStudio)\n",
    "3. Find API Keys after creating CLOVA Studio Test App or Service App (See [here](https://guide.ncloud-docs.com/docs/en/clovastudio-playground01#테스트앱생성).)\n",
    "\n",
    "### Credentials\n",
    "\n",
    "CLOVA Studio requires 2 keys (`NCP_CLOVASTUDIO_API_KEY` and `NCP_APIGW_API_KEY`).\n",
    "  - `NCP_CLOVASTUDIO_API_KEY` is issued per Test App or Service App\n",
    "  - `NCP_APIGW_API_KEY` is issued per account\n",
    "\n",
    "The two API Keys could be found by clicking `App Request Status` > `Service App, Test App List` > `‘Details’ button for each app` in [CLOVA Studio](https://clovastudio.ncloud.com/studio-application/service-app)"
   ]
  },
  {
   "cell_type": "markdown",
   "id": "0730d6a1-c893-4840-9817-5e5251676d5d",
   "metadata": {},
   "source": [
    "### Installation\n",
    "\n",
    "The LangChain Naver integration lives in the `langchain-community` package:"
   ]
  },
  {
   "cell_type": "code",
   "execution_count": null,
   "id": "652d6238-1f87-422a-b135-f5abbb8652fc",
   "metadata": {},
   "outputs": [],
   "source": [
    "# install package\n",
    "!pip install -qU langchain-community"
   ]
  },
  {
   "cell_type": "markdown",
   "id": "a38cde65-254d-4219-a441-068766c0d4b5",
   "metadata": {},
   "source": [
    "## Instantiation\n",
    "\n",
    "Now we can instantiate our model object and generate chat completions:"
   ]
  },
  {
   "cell_type": "code",
   "execution_count": null,
   "id": "cb09c344-1836-4e0c-acf8-11d13ac1dbae",
   "metadata": {},
   "outputs": [],
   "source": [
    "from langchain_community.chat_models import ChatClovaX\n",
    "\n",
    "llm = ChatClovaX(\n",
    "    model=\"HCX-DASH-001\",\n",
    "    temperature=0.5,\n",
    "    max_tokens=None,\n",
    "    max_retries=2,\n",
    "    # clovastudio_api_key=\"...\"  # if you prefer to pass api key in directly instead of using env vars\n",
    "    # task_id=\"...\"  # if you want to use fine-tuned model\n",
    "    # service_app=False (default)  # True if using service app\n",
    "    # include_ai_filters=False (default) ## True if you want to detect inappropriate content\n",
    "    # other params...\n",
    ")"
   ]
  },
  {
   "cell_type": "markdown",
   "id": "2b4f3e15",
   "metadata": {},
   "source": "## Invocation"
  },
  {
   "cell_type": "code",
   "execution_count": null,
   "id": "62e0dbc3",
   "metadata": {
    "tags": []
   },
   "outputs": [],
   "source": [
    "messages = [\n",
    "    (\n",
    "        \"system\",\n",
    "        \"You are a helpful assistant that translates English to Korean. Translate the user sentence.\",\n",
    "    ),\n",
    "    (\"human\", \"I love using NAVER AI.\"),\n",
    "]\n",
    "ai_msg = llm.invoke(messages)\n",
    "ai_msg"
   ]
  },
  {
   "cell_type": "code",
   "execution_count": null,
   "id": "d86145b3-bfef-46e8-b227-4dda5c9c2705",
   "metadata": {},
   "outputs": [],
   "source": [
    "print(ai_msg.content)"
   ]
  },
  {
   "cell_type": "markdown",
   "id": "18e2bfc0-7e78-4528-a73f-499ac150dca8",
   "metadata": {},
   "source": [
    "## Chaining\n",
    "\n",
    "We can [chain](/docs/how_to/sequence/) our model with a prompt template like so:"
   ]
  },
  {
   "cell_type": "code",
   "execution_count": null,
   "id": "e197d1d7-a070-4c96-9f8a-a0e86d046e0b",
   "metadata": {},
   "outputs": [],
   "source": [
    "from langchain_core.prompts import ChatPromptTemplate\n",
    "\n",
    "prompt = ChatPromptTemplate.from_messages(\n",
    "    [\n",
    "        (\n",
    "            \"system\",\n",
    "            \"You are a helpful assistant that translates {input_language} to {output_language}. Translate the user sentence.\",\n",
    "        ),\n",
    "        (\"human\", \"{input}\"),\n",
    "    ]\n",
    ")\n",
    "\n",
    "chain = prompt | llm\n",
    "chain.invoke(\n",
    "    {\n",
    "        \"input_language\": \"English\",\n",
    "        \"output_language\": \"Korean\",\n",
    "        \"input\": \"I love using NAVER AI.\",\n",
    "    }\n",
    ")"
   ]
  },
  {
   "metadata": {},
   "cell_type": "markdown",
   "source": [
    "## Additional functionalities\n",
    "\n",
    "### Fine-tuning\n",
    "\n",
    "You can call fine-tuned CLOVA X models by passing in your corresponding `task_id` parameter. (You don’t need to specify the model_name parameter when calling fine-tuned model.)\n",
    "\n",
    "You can check `task_id` from corresponding Test App or Service App details."
   ],
   "id": "b17f1745ecca4559"
  },
  {
   "metadata": {},
   "cell_type": "code",
   "outputs": [],
   "execution_count": null,
   "source": [
    "fine_tuned_model = ChatClovaX(\n",
    "    task_id='abcd123e',\n",
    "    temperature=0.5,\n",
    ")\n",
    "\n",
    "fine_tuned_model(messages)"
   ],
   "id": "955392044d4c967"
  },
  {
   "metadata": {},
   "cell_type": "markdown",
   "source": [
    "### Service App\n",
    "\n",
    "When going live with production-level application using CLOVA Studio, you should apply for and use Service App. (See [here](https://guide.ncloud-docs.com/docs/en/clovastudio-playground01#서비스앱신청).)\n",
    "\n",
    "For a Service App, a corresponding `NCP_CLOVASTUDIO_API_KEY` is issued and can only be called with the API Key."
   ],
   "id": "60f993c25f29f615"
  },
  {
   "metadata": {},
   "cell_type": "code",
   "outputs": [],
   "execution_count": null,
   "source": [
    "#### Setting environment variables\n",
    "\n",
    "NCP_CLOVASTUDIO_API_KEY=\"please input your clova studio api key.\"\n",
    "NCP_APIGW_API_KEY=\"please input your NCP gateway api key.\""
   ],
   "id": "10afeeff7b96a826"
  },
  {
   "metadata": {},
   "cell_type": "code",
   "outputs": [],
   "execution_count": null,
   "source": [
    "llm = ChatClovaX(\n",
    "    service_app=True, # True if you want to use your service app, default value is False.\n",
    "    # clovastudio_api_key=\"...\"  # if you prefer to pass api key in directly instead of using env vars\n",
    "    # apigw_api_key=\"...\"  # if you prefer to pass gateway key in directly instead of using env vars\n",
    "    model=\"HCX-DASH-001\",\n",
    "    temperature=0.5,\n",
    "    max_tokens=None,\n",
    "    max_retries=2,\n",
    "    # other params...\n",
    ")\n",
    "ai_msg = llm.invoke(messages)"
   ],
   "id": "79a8b75e0f3c62cf"
  },
  {
   "metadata": {},
   "cell_type": "markdown",
   "source": [
    "### AI Filter\n",
    "\n",
    "AI Filter detects inappropriate output such as profanity from the test app (or service app included) created in Playground and informs the user. See [here](https://guide.ncloud-docs.com/docs/en/clovastudio-playground01#AIFilter) for details. "
   ],
   "id": "a44107dc538a570c"
  },
  {
   "metadata": {},
   "cell_type": "code",
   "outputs": [],
   "execution_count": null,
   "source": [
    "llm = ChatClovaX(\n",
    "    model=\"HCX-DASH-001\",\n",
    "    temperature=0.5,\n",
    "    max_tokens=None,\n",
    "    max_retries=2,\n",
    "    include_ai_filters=True, # True if you want to enabled ai filter\n",
    "    # other params...\n",
    ")\n",
    "\n",
    "ai_msg = llm.invoke(messages)"
   ],
   "id": "23d40ddcc3ad428"
  },
  {
   "metadata": {},
   "cell_type": "code",
   "outputs": [],
   "execution_count": null,
   "source": "print(ai_msg.response_metadata['ai_filter'])",
   "id": "2f0ac38b0d6f4473"
  },
  {
   "metadata": {},
   "cell_type": "markdown",
   "source": [
    "## API reference\n",
    "\n",
    "For detailed documentation of all ChatClovaX features and configurations head to the API reference: https://api.python.langchain.com/en/latest/chat_models/langchain_community.chat_models.naver.ChatClovaX.html"
   ],
   "id": "fb21a159a74f9dad"
  }
 ],
 "metadata": {
  "kernelspec": {
   "display_name": "Python 3 (ipykernel)",
   "language": "python",
   "name": "python3"
  },
  "language_info": {
   "codemirror_mode": {
    "name": "ipython",
    "version": 3
   },
   "file_extension": ".py",
   "mimetype": "text/x-python",
   "name": "python",
   "nbconvert_exporter": "python",
   "pygments_lexer": "ipython3",
   "version": "3.9.1"
  }
 },
 "nbformat": 4,
 "nbformat_minor": 5
}
