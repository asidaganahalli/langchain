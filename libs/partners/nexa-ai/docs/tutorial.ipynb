{
 "cells": [
  {
   "cell_type": "raw",
   "id": "67db2992",
   "metadata": {},
   "source": [
    "---\n",
    "sidebar_label: NexaAI\n",
    "---"
   ]
  },
  {
   "cell_type": "markdown",
   "id": "9597802c",
   "metadata": {},
   "source": [
    "# NexaAILLM\n",
    "\n",
    "This example goes over how to use LangChain to interact with `NexaAI` models.\n",
    "\n",
    "## Installation"
   ]
  },
  {
   "cell_type": "code",
   "execution_count": null,
   "id": "59c710c4",
   "metadata": {},
   "outputs": [],
   "source": [
    "# install package\n",
    "!pip install -U langchain-nexa-ai"
   ]
  },
  {
   "cell_type": "markdown",
   "id": "0ee90032",
   "metadata": {},
   "source": [
    "## Environment Setup\n",
    "\n",
    "You should get an api key from Nexa Hub and set it as an environment variable (NEXA_API_KEY)"
   ]
  },
  {
   "cell_type": "code",
   "execution_count": null,
   "id": "035dea0f",
   "metadata": {
    "tags": []
   },
   "outputs": [],
   "source": [
    "from langchain_nexa_ai import NexaAILLM\n",
    "\n",
    "octopus_llm = NexaAILLM()"
   ]
  },
  {
   "cell_type": "markdown",
   "id": "fe0de9b5",
   "metadata": {},
   "source": [
    "## Shopping Category\n",
    "\n",
    "This example demonstrates how to use the NexaAILLM model to perform various shopping-related actions, including searching for products, viewing recommended products, and sorting products by price. The model is invoked with different prompts, and the results are processed to execute the corresponding actions.\n",
    "\n",
    "### Define tool funtions\n",
    "\n",
    "These functions will perform specific shopping-related actions based on Amazon website. You can customize these functions on your own. The following functions are examples demonstrating how to use the results from the NexaAILLM model."
   ]
  },
  {
   "cell_type": "code",
   "execution_count": null,
   "id": "bdb9e66e",
   "metadata": {},
   "outputs": [],
   "source": [
    "import urllib.parse\n",
    "import webbrowser\n",
    "\n",
    "\n",
    "# amazon search for shopping\n",
    "def search_amazon_products(product_description: str):\n",
    "    try:\n",
    "        encoded_description = urllib.parse.quote(product_description)\n",
    "        url = f\"https://www.amazon.com/s?k={encoded_description}\"\n",
    "        webbrowser.open(url)\n",
    "        print(f\"Opened {url} in the Amazon.\")\n",
    "    except Exception as e:\n",
    "        print(\"Failed to open URL:\", str(e))\n",
    "\n",
    "\n",
    "# amazon recommended products\n",
    "def see_amazon_recommended_products(category_name: str):\n",
    "    try:\n",
    "        encoded_description = urllib.parse.quote(category_name)\n",
    "        url = f\"https://www.amazon.com/s?k={encoded_description}\"\n",
    "        webbrowser.open(url)\n",
    "        print(f\"Opened {url} in the Amazon.\")\n",
    "    except Exception as e:\n",
    "        print(\"Failed to open URL:\", str(e))\n",
    "\n",
    "\n",
    "# We will use \"kitchen appliance\" to demo sort function in this case\n",
    "def sort_amazon_products(criteria: str):\n",
    "    try:\n",
    "        criteria_map = {\n",
    "            \"relevance\": \"relevanceblender\",\n",
    "            \"top sales\": \"exact-aware-popularity-rank\",\n",
    "            \"most recent\": \"date-desc-rank\",\n",
    "            \"price low to high\": \"price-asc-rank\",\n",
    "            \"price high to low\": \"price-desc-rank\"\n",
    "        }\n",
    "        sort_criteria = criteria_map.get(criteria, \"relevanceblender\")\n",
    "        url = f\"https://www.amazon.com/s?k=kitchen+appliance&s={sort_criteria}\"\n",
    "        webbrowser.open(url)\n",
    "        print(f\"Opened {url} in the Amazon.\")\n",
    "    except Exception as e:\n",
    "        print(\"Failed to open URL:\", str(e))"
   ]
  },
  {
   "cell_type": "markdown",
   "id": "7d3f0ea0",
   "metadata": {},
   "source": [
    "### Customize your prompt\n",
    "\n",
    "You can customize the prompt to include any shopping-related queries."
   ]
  },
  {
   "cell_type": "code",
   "execution_count": null,
   "id": "c50bdd9b",
   "metadata": {},
   "outputs": [],
   "source": [
    "import json\n",
    "\n",
    "# Search products\n",
    "prompt = \"Find laptops for gaming under $1000.\"\n",
    "result = octopus_llm.invoke(prompt, category=\"shopping\")\n",
    "response = json.loads(result)\n",
    "if \"function_arguments\" in response:\n",
    "    arguments = response[\"function_arguments\"]\n",
    "    search_amazon_products(arguments[0])\n",
    "\n",
    "# See recommended products\n",
    "prompt = \"Show recommended products in home appliances.\"\n",
    "result = octopus_llm.invoke(prompt, category=\"shopping\")\n",
    "response = json.loads(result)\n",
    "if \"function_arguments\" in response:\n",
    "    arguments = response[\"function_arguments\"]\n",
    "    see_amazon_recommended_products(arguments[0])\n",
    "\n",
    "# Sort products\n",
    "prompt = \"Show products sorted by low to high prices.\"\n",
    "result = octopus_llm.invoke(prompt, category=\"shopping\")\n",
    "response = json.loads(result)\n",
    "if \"function_arguments\" in response:\n",
    "    arguments = response[\"function_arguments\"]\n",
    "    sort_amazon_products(arguments[0])"
   ]
  },
  {
   "cell_type": "markdown",
   "id": "27a2a9f6",
   "metadata": {},
   "source": [
    "## Steaming Category\n",
    "\n",
    "This example demonstrates how to use the NexaAILLM model to perform various streaming-related actions, including browsing content and searching for specific videos. The model is invoked with different prompts, and the results are processed to execute the corresponding actions.\n",
    "\n",
    "### Define tool funtions\n",
    "\n",
    "These functions will perform specific streaming-related actions based on YouTube website. You can customize these functions on your own. The following functions are examples demonstrating how to use the results from the NexaAILLM model."
   ]
  },
  {
   "cell_type": "code",
   "execution_count": null,
   "id": "e44fa6c7",
   "metadata": {},
   "outputs": [],
   "source": [
    "import webbrowser\n",
    "\n",
    "\n",
    "# youtobe search content for streaming\n",
    "def browse_youtube_content(categories: str):\n",
    "    try:\n",
    "        url = f\"https://www.youtube.com/results?search_query={categories}\"\n",
    "        webbrowser.open(url)\n",
    "        print(f\"Opened {url} in the default browser.\")\n",
    "    except Exception as e:\n",
    "        print(\"Failed to open URL:\", str(e))\n",
    "\n",
    "\n",
    "# youtobe search videos for streaming\n",
    "def search_youtube_videos(query: str, content_creator: str):\n",
    "    try:\n",
    "        search_query = f\"{query} {content_creator}\".strip()\n",
    "        url = f\"https://www.youtube.com/results?search_query={search_query}\"\n",
    "        webbrowser.open(url)\n",
    "        print(f\"Opened {url} in the default browser.\")\n",
    "    except Exception as e:\n",
    "        print(\"Failed to open URL:\", str(e))"
   ]
  },
  {
   "cell_type": "markdown",
   "id": "3ccc0985",
   "metadata": {},
   "source": [
    "### Customize your prompt\n",
    "\n",
    "You can customize the prompt to include any streaming-related queries."
   ]
  },
  {
   "cell_type": "code",
   "execution_count": null,
   "id": "70d0caef",
   "metadata": {},
   "outputs": [],
   "source": [
    "# Browse content\n",
    "prompt = \"Show me gaming channels.\"\n",
    "result = octopus_llm.invoke(prompt, category=\"streaming\")\n",
    "response = json.loads(result)\n",
    "if \"function_arguments\" in response:\n",
    "    arguments = response[\"function_arguments\"]\n",
    "    browse_youtube_content(arguments[0]) if arguments else \"all\"\n",
    "\n",
    "# Search videos\n",
    "prompt = \"List all music videos by Adele released in 2021.\"\n",
    "result = octopus_llm.invoke(prompt, category=\"streaming\")\n",
    "response = json.loads(result)\n",
    "if \"function_arguments\" in response:\n",
    "    arguments = response[\"function_arguments\"]\n",
    "    query = arguments[0]\n",
    "    content_creator = arguments[1] if len(arguments) > 1 and arguments[1] != \"any\" else \"\"\n",
    "    search_youtube_videos(query, content_creator)"
   ]
  },
  {
   "cell_type": "markdown",
   "id": "607a860a",
   "metadata": {},
   "source": [
    "## Travel Category\n",
    "\n",
    "This example demonstrates how to use the NexaAILLM model to perform various travel-related actions, including searching for accommodations, sorting hotels, and filtering properties by price and rating. The model is invoked with different prompts, and the results are processed to execute the corresponding actions.\n",
    "\n",
    "### Define tool funtions\n",
    "\n",
    "These functions will perform specific travel-related actions based on Expedia website. You can customize these functions on your own. The following functions are examples demonstrating how to use the results from the NexaAILLM model."
   ]
  },
  {
   "cell_type": "code",
   "execution_count": null,
   "id": "4c1b84ed",
   "metadata": {},
   "outputs": [],
   "source": [
    "import datetime\n",
    "\n",
    "\n",
    "# Expedia search for travel accommodations\n",
    "def search_expedia_accommodation(location: str, start_date: str, end_date: str):\n",
    "    try:\n",
    "        if location == \"here\":\n",
    "            location = \"New York\"   # Replace with your default location\n",
    "\n",
    "        today = datetime.datetime.now()\n",
    "        start_date = (today.strftime('%Y-%m-%d') if start_date.lower() == \"now\" else\n",
    "                      datetime.datetime.strptime(f\"{start_date} {today.year}\", '%B %d %Y').strftime('%Y-%m-%d'))\n",
    "\n",
    "        end_date = ((today + datetime.timedelta(days=1)).strftime('%Y-%m-%d') if end_date.lower() == \"tomorrow\" else\n",
    "                    datetime.datetime.strptime(f\"{end_date} {today.year}\", '%B %d %Y').strftime('%Y-%m-%d'))\n",
    "\n",
    "        formatted_location = location.replace(\" \", \"%20\")\n",
    "        url = f\"https://www.expedia.com/Hotel-Search?destination={formatted_location}&startDate={start_date}&endDate={end_date}\"\n",
    "        webbrowser.open(url)\n",
    "        print(f\"Opened {url} in the default browser.\")\n",
    "    except Exception as e:\n",
    "        print(\"Failed to open URL:\", str(e))\n",
    "\n",
    "\n",
    "# Sorting Expedia accommodations\n",
    "def sort_expedia_accommodations(criteria: str):\n",
    "    try:\n",
    "        criteria_map = {\n",
    "            \"price low to high\": \"PRICE_LOW_TO_HIGH\",\n",
    "            \"price high to low\": \"PRICE_HIGH_TO_LOW\",\n",
    "            \"distance from downtown\": \"DISTANCE\",\n",
    "            \"guest rating\": \"REVIEW_RELEVANT\",\n",
    "            \"star rating\": \"PROPERTY_CLASS\"\n",
    "        }\n",
    "        sort_criteria = criteria_map.get(criteria, \"RECOMMENDED\")\n",
    "\n",
    "        url = f\"https://www.expedia.com/Hotel-Search?sort={sort_criteria}\"\n",
    "        webbrowser.open(url)\n",
    "        print(f\"Opened {url} in the default browser.\")\n",
    "    except Exception as e:\n",
    "        print(\"Failed to open URL:\", str(e))\n",
    "\n",
    "\n",
    "# Filtering Expedia accommodations by price and rating\n",
    "def filter_expedia_by_price_rating(price_max: float, rating_min: float):\n",
    "    try:\n",
    "        url = \"https://www.expedia.com/Hotel-Search?\"\n",
    "\n",
    "        if price_max != -1:\n",
    "            url += f\"price=0&price={price_max}\"\n",
    "        if rating_min > 1:\n",
    "            star_min = rating_min * 10\n",
    "            stars = \"&\".join([f\"star={star}\" for star in range(star_min, 60, 10)])\n",
    "            url += f\"{stars}\" if price_max == -1 else f\"&{stars}\"\n",
    "\n",
    "        webbrowser.open(url)\n",
    "        print(f\"Opened {url} in the default browser.\")\n",
    "    except Exception as e:\n",
    "        print(\"Failed to open URL:\", str(e))"
   ]
  },
  {
   "cell_type": "markdown",
   "id": "0c6d7d19",
   "metadata": {},
   "source": [
    "### Customize your prompt\n",
    "\n",
    "You can customize the prompt to include any travel-related queries."
   ]
  },
  {
   "cell_type": "code",
   "execution_count": null,
   "id": "992247f4",
   "metadata": {},
   "outputs": [],
   "source": [
    "# Search accommodation\n",
    "prompt = \"Find a Hotel to stay in Toyko from October 1 to October 10.\"\n",
    "result = octopus_llm.invoke(prompt, category=\"travel\")\n",
    "response = json.loads(result)\n",
    "if \"function_arguments\" in response:\n",
    "    arguments = response[\"function_arguments\"]\n",
    "    location = arguments[0] if arguments else \"here\"\n",
    "    start_date = arguments[1] if len(arguments) > 1 else \"now\"\n",
    "    end_date = arguments[2] if len(arguments) > 2 else \"tomorrow\"\n",
    "    search_expedia_accommodation(location, start_date, end_date)\n",
    "\n",
    "# Sort accommodations\n",
    "prompt = \"Sort the hotels by their proximity to downtown.\"\n",
    "result = octopus_llm.invoke(prompt, category=\"travel\")\n",
    "response = json.loads(result)\n",
    "if \"function_arguments\" in response:\n",
    "    arguments = response[\"function_arguments\"]\n",
    "    sort_expedia_accommodations(arguments[0])\n",
    "\n",
    "# Filter by pricerating\n",
    "prompt = \"Show properties below $500 per night with a 4 stars rating or higher.\"\n",
    "result = octopus_llm.invoke(prompt, category=\"travel\")\n",
    "response = json.loads(result)\n",
    "if \"function_arguments\" in response:\n",
    "    arguments = response[\"function_arguments\"]\n",
    "    price_max = int(arguments[0]) if arguments else -1\n",
    "    rating_min = int(arguments[1]) if len(arguments) > 1 else 1\n",
    "    filter_expedia_by_price_rating(price_max, rating_min)"
   ]
  },
  {
   "cell_type": "markdown",
   "id": "6e4e66a4",
   "metadata": {},
   "source": [
    "## Using NexaAILLM for Streaming, Shopping, and Travel Scenarios\n",
    "\n",
    "This example demonstrates how to use the NexaAILLM model to perform various actions across multiple categories, including streaming, shopping, and travel. The model is invoked with different prompts, and the results are processed to execute the corresponding actions."
   ]
  },
  {
   "cell_type": "code",
   "execution_count": null,
   "id": "09507595",
   "metadata": {},
   "outputs": [],
   "source": [
    "prompts=[\n",
    "    \"Show me Hawaii travel vlogs.\",\n",
    "    \"Show recommended products for swimming.\",\n",
    "    \"Find a Hotel to stay in Hawaii from August 1 to August 10.\",\n",
    "]\n",
    "\n",
    "results = octopus_llm.generate(prompts, categories=[\"streaming\", \"shopping\", \"travel\"])\n",
    "\n",
    "for generation_list in results.generations:\n",
    "    for generation in generation_list:\n",
    "        response = json.loads(generation.text)\n",
    "        if \"function_name\" in response and response[\"function_name\"] and \"function_arguments\" in response:\n",
    "            function_name = response[\"function_name\"]\n",
    "            arguments = response[\"function_arguments\"]\n",
    "\n",
    "            # shopping\n",
    "            if function_name == \"search_products\":\n",
    "                search_amazon_products(arguments[0])\n",
    "            elif function_name == \"see_recommended_products\":\n",
    "                see_amazon_recommended_products(arguments[0])\n",
    "            elif function_name == \"sort_products\":\n",
    "                sort_amazon_products(arguments[0])\n",
    "\n",
    "            # streaming\n",
    "            elif function_name == \"browse_content\":\n",
    "                browse_youtube_content(arguments[0]) if arguments else 'all'\n",
    "            elif function_name == \"search_videos\":\n",
    "                query = arguments[0]\n",
    "                content_creator = arguments[1] if len(arguments) > 1 and arguments[1] != \"any\" else \"\"\n",
    "                search_youtube_videos(query, content_creator)\n",
    "\n",
    "            # travel\n",
    "            elif function_name == \"search_accommodation\":\n",
    "                location = arguments[0] if arguments else \"here\"\n",
    "                start_date = arguments[1] if len(arguments) > 1 else \"now\"\n",
    "                end_date = arguments[2] if len(arguments) > 2 else \"tomorrow\"\n",
    "                search_expedia_accommodation(location, start_date, end_date)\n",
    "            elif function_name == \"sort_accommodations\":\n",
    "                sort_expedia_accommodations(arguments[0])\n",
    "            elif function_name == \"filter_by_price_rating\":\n",
    "                price_max = int(arguments[0]) if arguments else -1\n",
    "                rating_min = int(arguments[1]) if len(arguments) > 1 else 1\n",
    "                filter_expedia_by_price_rating(price_max, rating_min)\n",
    "\n",
    "            else:\n",
    "                print(\"No valid function recognized.\")\n",
    "        else:\n",
    "            print(\"No function name or arguments found in the model response.\")"
   ]
  },
  {
   "cell_type": "markdown",
   "id": "d1a1a1cd",
   "metadata": {},
   "source": [
    "## Conclusion\n",
    "\n",
    "This example demonstrates the versatile application of the NexaAILLM model across different categories, including streaming, shopping, and travel. You can further customize the agent to include more functionalities and integrate your application with other categories. By defining specific prompts and invoking the model, you can generate targeted responses that cater to various user needs."
   ]
  }
 ],
 "metadata": {
  "kernelspec": {
   "display_name": "Python 3.11.1 64-bit",
   "language": "python",
   "name": "python3"
  },
  "language_info": {
   "codemirror_mode": {
    "name": "ipython",
    "version": 3
   },
   "file_extension": ".py",
   "mimetype": "text/x-python",
   "name": "python",
   "nbconvert_exporter": "python",
   "pygments_lexer": "ipython3",
   "version": "3.10.13"
  },
  "vscode": {
   "interpreter": {
    "hash": "e971737741ff4ec9aff7dc6155a1060a59a8a6d52c757dbbe66bf8ee389494b1"
   }
  }
 },
 "nbformat": 4,
 "nbformat_minor": 5
}
